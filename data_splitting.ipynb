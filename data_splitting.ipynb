{
 "cells": [
  {
   "cell_type": "code",
   "execution_count": 1,
   "metadata": {},
   "outputs": [
    {
     "name": "stdout",
     "output_type": "stream",
     "text": [
      "Training features:\n",
      "    age  salary\n",
      "8   46   72000\n",
      "1   32   60000\n",
      "2   47   80000\n",
      "9   52   71000\n",
      "0   25   50000\n",
      "5   37   64000\n",
      "7   35   65000\n",
      "6   48   90000\n",
      "Training target:\n",
      " 8    1\n",
      "1    1\n",
      "2    1\n",
      "9    0\n",
      "0    0\n",
      "5    0\n",
      "7    0\n",
      "6    1\n",
      "Name: purchased, dtype: int64\n",
      "Testing features:\n",
      "    age  salary\n",
      "4   62   85000\n",
      "3   51   70000\n",
      "Testing target:\n",
      " 4    1\n",
      "3    0\n",
      "Name: purchased, dtype: int64\n"
     ]
    }
   ],
   "source": [
    "# Import necessary libraries\n",
    "from sklearn.model_selection import train_test_split\n",
    "import pandas as pd\n",
    "\n",
    "# Sample dataset\n",
    "data = {\n",
    "    'age': [25, 32, 47, 51, 62, 37, 48, 35, 46, 52],\n",
    "    'salary': [50000, 60000, 80000, 70000, 85000, 64000, 90000, 65000, 72000, 71000],\n",
    "    'purchased': [0, 1, 1, 0, 1, 0, 1, 0, 1, 0]\n",
    "}\n",
    "\n",
    "# Convert the dataset to a DataFrame\n",
    "df = pd.DataFrame(data)\n",
    "\n",
    "# Features (X) and target (y)\n",
    "X = df[['age', 'salary']]  # Independent variables\n",
    "y = df['purchased']        # Dependent variable\n",
    "\n",
    "# Split the data into training and testing sets (80% train, 20% test)\n",
    "X_train, X_test, y_train, y_test = train_test_split(X, y, test_size=0.2, random_state=40)\n",
    "\n",
    "# Display the split data\n",
    "print(\"Training features:\\n\", X_train)\n",
    "print(\"Training target:\\n\", y_train)\n",
    "print(\"Testing features:\\n\", X_test)\n",
    "print(\"Testing target:\\n\", y_test)\n"
   ]
  },
  {
   "cell_type": "code",
   "execution_count": 3,
   "metadata": {},
   "outputs": [
    {
     "name": "stdout",
     "output_type": "stream",
     "text": [
      "Training set: (6, 2)\n",
      "Validation set: (2, 2)\n",
      "Test set: (2, 2)\n"
     ]
    }
   ],
   "source": [
    "# Example: Train/Validation/Test split\n",
    "X_train_full, X_test, y_train_full, y_test = train_test_split(X, y, test_size=0.2, random_state=42)\n",
    "\n",
    "# Further split training data into training and validation sets (80% of the remaining data for training, 20% for validation)\n",
    "X_train, X_val, y_train, y_val = train_test_split(X_train_full, y_train_full, test_size=0.25, random_state=42)  # 0.25 * 0.8 = 0.2\n",
    "\n",
    "# Display the split data\n",
    "print(\"Training set:\", X_train.shape)\n",
    "print(\"Validation set:\", X_val.shape)\n",
    "print(\"Test set:\", X_test.shape)\n"
   ]
  }
 ],
 "metadata": {
  "kernelspec": {
   "display_name": "base",
   "language": "python",
   "name": "python3"
  },
  "language_info": {
   "codemirror_mode": {
    "name": "ipython",
    "version": 3
   },
   "file_extension": ".py",
   "mimetype": "text/x-python",
   "name": "python",
   "nbconvert_exporter": "python",
   "pygments_lexer": "ipython3",
   "version": "3.12.1"
  }
 },
 "nbformat": 4,
 "nbformat_minor": 2
}
