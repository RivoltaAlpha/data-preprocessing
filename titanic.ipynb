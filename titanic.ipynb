{
 "cells": [
  {
   "cell_type": "code",
   "execution_count": null,
   "metadata": {},
   "outputs": [],
   "source": [
    "# Loading Titanic dataset from seaborn for demonstration\n",
    "import seaborn as sns\n",
    "df_titanic = sns.load_dataset('titanic')\n",
    "\n",
    "# Check for missing values\n",
    "print(df_titanic.isnull().sum())\n",
    "\n",
    "# Handle missing data by imputing 'age' with the mean and 'embarked' with mode\n",
    "imputer_age = SimpleImputer(strategy='mean')\n",
    "df_titanic['age'] = imputer_age.fit_transform(df_titanic[['age']])\n",
    "\n",
    "imputer_embarked = SimpleImputer(strategy='most_frequent')\n",
    "df_titanic['embarked'] = imputer_embarked.fit_transform(df_titanic[['embarked']])\n",
    "\n",
    "# Drop columns with too many missing values like 'deck' (too much data missing)\n",
    "df_titanic = df_titanic.drop('deck', axis=1)\n",
    "\n",
    "# Check again for missing values\n",
    "print(df_titanic.isnull().sum())\n"
   ]
  }
 ],
 "metadata": {
  "language_info": {
   "name": "python"
  }
 },
 "nbformat": 4,
 "nbformat_minor": 2
}
