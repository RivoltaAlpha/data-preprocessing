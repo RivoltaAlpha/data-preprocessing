{
 "cells": [
  {
   "cell_type": "markdown",
   "metadata": {},
   "source": [
    "# Introduction to Data Preprocessing"
   ]
  },
  {
   "cell_type": "markdown",
   "metadata": {},
   "source": [
    "\n",
    "\n",
    "**Why is data preprocessing important?**\n",
    "Data in the real world is often incomplete, inconsistent, and messy. \n",
    "\n",
    "Preprocessing transforms raw data into a clean and usable form, helping machine learning models to perform better.\n",
    "\n",
    "**Common preprocessing steps:**\n",
    "\n",
    "        Handling missing data\n",
    "        Feature scaling\n",
    "        Encoding categorical data\n",
    "        Splitting the dataset for training and testing"
   ]
  },
  {
   "cell_type": "markdown",
   "metadata": {},
   "source": []
  },
  {
   "cell_type": "markdown",
   "metadata": {},
   "source": [
    "# **Handling Missing Data**"
   ]
  },
  {
   "cell_type": "markdown",
   "metadata": {},
   "source": []
  },
  {
   "cell_type": "markdown",
   "metadata": {},
   "source": [
    "**Why does missing data occur?**\n",
    "\n",
    "**Missing Data in Real-World Datasets**\n",
    "\n",
    "Missing data is common in real-world datasets due to reasons like data collection errors, participant dropout, or incomplete data entry.\n",
    "\n",
    "**Impact on Machine Learning Models**\n",
    "\n",
    "Many machine learning algorithms cannot handle missing values directly, which may lead to inaccurate predictions or even failure to train the model.\n",
    "\n",
    "**Ways to Handle Missing Data**\n",
    "\n",
    "1. **Remove Missing Values**\n",
    "    - When the impact is minimal.\n",
    "\n",
    "2. **Impute Missing Values**\n",
    "    - When removing values would result in data loss."
   ]
  },
  {
   "cell_type": "markdown",
   "metadata": {},
   "source": []
  },
  {
   "cell_type": "markdown",
   "metadata": {},
   "source": [
    "pip install pandas numpy scikit-learn"
   ]
  },
  {
   "cell_type": "code",
   "execution_count": 1,
   "metadata": {},
   "outputs": [
    {
     "name": "stdout",
     "output_type": "stream",
     "text": [
      "    age   salary purchased\n",
      "0  25.0  50000.0        No\n",
      "1   NaN  60000.0       Yes\n",
      "2  35.0      NaN       Yes\n",
      "3  40.0  80000.0        No\n",
      "4  29.0  50000.0       NaN\n"
     ]
    }
   ],
   "source": [
    "import pandas as pd\n",
    "import numpy as np\n",
    "from sklearn.impute import SimpleImputer\n",
    "\n",
    "data = {\n",
    "    'age': [25, np.nan, 35, 40, 29],\n",
    "    'salary': [50000, 60000, np.nan, 80000, 50000],\n",
    "    'purchased': ['No', 'Yes', 'Yes', 'No', np.nan]\n",
    "}\n",
    "\n",
    "df = pd.DataFrame(data)\n",
    "print(df)\n"
   ]
  },
  {
   "cell_type": "markdown",
   "metadata": {},
   "source": [
    "## Techniques for handling missing data"
   ]
  },
  {
   "cell_type": "markdown",
   "metadata": {},
   "source": [
    "1. **Removing Missing Values**\n",
    "\n",
    "When to remove missing data?\n",
    "    . If the dataset is large and the proportion of missing data is small.\n",
    "\n",
    "    \n",
    "    . When missing data is scattered randomly and does not impact the overall distribution."
   ]
  },
  {
   "cell_type": "code",
   "execution_count": 2,
   "metadata": {},
   "outputs": [
    {
     "name": "stdout",
     "output_type": "stream",
     "text": [
      "    age   salary purchased\n",
      "0  25.0  50000.0        No\n",
      "3  40.0  80000.0        No\n"
     ]
    }
   ],
   "source": [
    "# Removing rows with missing values\n",
    "df_dropna = df.dropna()\n",
    "print(df_dropna)\n"
   ]
  },
  {
   "cell_type": "markdown",
   "metadata": {},
   "source": [
    "**2. Imputing Missing Values**\n",
    "\n",
    "#### When to impute missing data?\n",
    "\n",
    "    . When the dataset is small or missing values occur frequently.\n",
    "\n",
    "    . Imputation maintains data consistency without sacrificing too much information.\n",
    "\n",
    "**Common imputation methods:**\n",
    "\n",
    "    . Mean/Median/Mode imputation.\n",
    "\n",
    "    . Forward fill/backward fill (using previous/next value)"
   ]
  },
  {
   "cell_type": "code",
   "execution_count": 3,
   "metadata": {},
   "outputs": [
    {
     "name": "stdout",
     "output_type": "stream",
     "text": [
      "     age   salary purchased\n",
      "0  25.00  50000.0        No\n",
      "1  32.25  60000.0       Yes\n",
      "2  35.00  60000.0       Yes\n",
      "3  40.00  80000.0        No\n",
      "4  29.00  50000.0       NaN\n"
     ]
    }
   ],
   "source": [
    "# (Numerical Data)\n",
    "# For numerical columns, such as age and salary, we can replace missing values with the mean of the column.\n",
    "\n",
    "# Imputing missing values using mean for age and salary\n",
    "imputer = SimpleImputer(strategy='mean')\n",
    "df['age'] = imputer.fit_transform(df[['age']])\n",
    "df['salary'] = imputer.fit_transform(df[['salary']])\n",
    "print(df)"
   ]
  },
  {
   "cell_type": "code",
   "execution_count": 1,
   "metadata": {},
   "outputs": [
    {
     "name": "stdout",
     "output_type": "stream",
     "text": [
      "    age   salary purchased\n",
      "0  25.0  50000.0        No\n",
      "1   NaN  60000.0       Yes\n",
      "2  35.0      NaN       Yes\n",
      "3  40.0  80000.0        No\n",
      "4  29.0  50000.0       Yes\n",
      "5  40.0  50000.0       Yes\n",
      "6  40.0  50000.0       Yes\n"
     ]
    }
   ],
   "source": [
    "import pandas as pd\n",
    "import numpy as np\n",
    "from sklearn.impute import SimpleImputer\n",
    "\n",
    "# Sample data\n",
    "data = {\n",
    "    'age': [25, np.nan, 35, 40, 29,40,40],\n",
    "    'salary': [50000, 60000, np.nan, 80000, 50000, 50000, 50000],\n",
    "    'purchased': ['No', 'Yes', 'Yes', 'No', np.nan,'Yes','Yes']\n",
    "}\n",
    "\n",
    "# Create DataFrame\n",
    "df = pd.DataFrame(data)\n",
    "\n",
    "# Convert the 'purchased' column to object type (if not already)\n",
    "df['purchased'] = df['purchased'].astype('object')\n",
    "\n",
    "# Imputing missing values using mode for categorical data\n",
    "imputer = SimpleImputer(strategy='most_frequent')\n",
    "\n",
    "# Apply the imputer on the 'purchased' column\n",
    "# Use ravel() to flatten the result since it's a 2D array\n",
    "df['purchased'] = imputer.fit_transform(df[['purchased']]).ravel()\n",
    "\n",
    "# Display the DataFrame after mode imputation\n",
    "print(df)\n"
   ]
  },
  {
   "cell_type": "code",
   "execution_count": null,
   "metadata": {},
   "outputs": [],
   "source": [
    "# Using Forward/Backward Fill\n",
    "# For time-series or ordered data, you can fill missing values using nearby values.\n",
    "\n",
    "\n",
    "# Forward fill\n",
    "df_ffill = df.fillna(method='ffill')\n",
    "print(df_ffill)\n",
    "\n",
    "# Backward fill\n",
    "df_bfill = df.fillna(method='bfill')\n",
    "print(df_bfill)"
   ]
  },
  {
   "cell_type": "markdown",
   "metadata": {},
   "source": [
    " When to Remove vs. When to Impute Missing Data\n",
    "\n",
    " \n",
    "**Remove missing data when:**\n",
    "\n",
    "- The amount of missing data is small (<5%) and randomly distributed.\n",
    "\n",
    "- Removing missing values doesn’t cause a significant reduction in the size of the dataset.\n",
    "\n",
    "\n",
    "**Impute missing data when:**\n",
    "\n",
    "- The missing values represent a significant portion of the data (>5%).\n",
    "\n",
    "- You want to avoid data loss and preserve the size of the dataset.\n",
    "\n",
    "\n",
    "**Maintaining Data Distribution:**\n",
    "\n",
    "It is important to ensure that imputing missing values does not distort the data’s underlying distribution. For example:\n",
    "\n",
    "- Mean imputation may reduce the variance of the data.\n",
    "\n",
    "- Mode imputation for categorical data may increase the representation of the most common class.\n",
    "\n",
    "You should always analyze the dataset and decide the best technique based on its structure and how missing values are distributed."
   ]
  }
 ],
 "metadata": {
  "kernelspec": {
   "display_name": "base",
   "language": "python",
   "name": "python3"
  },
  "language_info": {
   "codemirror_mode": {
    "name": "ipython",
    "version": 3
   },
   "file_extension": ".py",
   "mimetype": "text/x-python",
   "name": "python",
   "nbconvert_exporter": "python",
   "pygments_lexer": "ipython3",
   "version": "3.12.1"
  }
 },
 "nbformat": 4,
 "nbformat_minor": 2
}
